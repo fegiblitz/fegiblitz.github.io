{
 "cells": [
  {
   "cell_type": "markdown",
   "id": "84770468",
   "metadata": {},
   "source": [
    "# Introduction\n",
    "In this innovative project, our case study revolves around harnessing the potential of a comprehensive Beyoncé dataset sourced from Kaggle. Our primary objective is to reshape and reimagine the lyrics using AI-driven creativity. By utilizing predictive generation techniques, we're aiming to craft fresh and captivating verses that resonate with the essence of the dataset. To deepen our exploration, we're integrating advanced methodologies such as Part-of-Speech tagging and Named Entity Recognition. Through this endeavor, we aspire to unlock a new dimension of lyrical interpretation and creative expression, while showcasing the seamless fusion of technology and artistry."
   ]
  },
  {
   "cell_type": "code",
   "execution_count": 1,
   "id": "9f0e8116",
   "metadata": {},
   "outputs": [
    {
     "name": "stdout",
     "output_type": "stream",
     "text": [
      "/Users/macbook/Downloads\n"
     ]
    }
   ],
   "source": [
    "cd /Users/macbook/Downloads"
   ]
  },
  {
   "cell_type": "markdown",
   "id": "c25dd0fd",
   "metadata": {},
   "source": [
    "# Section 1: Import Libraries\n",
    "I began by importing essential libraries, which lay the foundation for data analysis, natural language processing, and machine learning."
   ]
  },
  {
   "cell_type": "code",
   "execution_count": 2,
   "id": "d36a5566",
   "metadata": {},
   "outputs": [],
   "source": [
    "import pandas as pd\n",
    "import spacy\n",
    "import nltk\n",
    "import random\n",
    "from sklearn.feature_extraction.text import TfidfVectorizer\n",
    "from sklearn.linear_model import LogisticRegression\n",
    "nlp = spacy.load('en_core_web_sm')"
   ]
  },
  {
   "cell_type": "markdown",
   "id": "600679ca",
   "metadata": {},
   "source": [
    "# Section 2: Data Loading and Preprocessing\n",
    "In this part, the project loads the dataset containing Beyonce's lyrics using the pandas. It then preprocesses the lyrics by converting them to lowercase to ensure uniformity for analysis."
   ]
  },
  {
   "cell_type": "code",
   "execution_count": 3,
   "id": "00c86406",
   "metadata": {},
   "outputs": [],
   "source": [
    "df=pd.read_csv('Beyonce.csv')\n",
    "df['Lyric'] = df['Lyric'].fillna('')\n",
    "df['Lyric'] = df['Lyric'].str.lower()"
   ]
  },
  {
   "cell_type": "code",
   "execution_count": 4,
   "id": "f842acd0",
   "metadata": {},
   "outputs": [
    {
     "data": {
      "text/html": [
       "<div>\n",
       "<style scoped>\n",
       "    .dataframe tbody tr th:only-of-type {\n",
       "        vertical-align: middle;\n",
       "    }\n",
       "\n",
       "    .dataframe tbody tr th {\n",
       "        vertical-align: top;\n",
       "    }\n",
       "\n",
       "    .dataframe thead th {\n",
       "        text-align: right;\n",
       "    }\n",
       "</style>\n",
       "<table border=\"1\" class=\"dataframe\">\n",
       "  <thead>\n",
       "    <tr style=\"text-align: right;\">\n",
       "      <th></th>\n",
       "      <th>Unnamed: 0</th>\n",
       "      <th>Artist</th>\n",
       "      <th>Title</th>\n",
       "      <th>Album</th>\n",
       "      <th>Year</th>\n",
       "      <th>Date</th>\n",
       "      <th>Lyric</th>\n",
       "    </tr>\n",
       "  </thead>\n",
       "  <tbody>\n",
       "    <tr>\n",
       "      <th>0</th>\n",
       "      <td>0</td>\n",
       "      <td>Beyoncé</td>\n",
       "      <td>Drunk in Love</td>\n",
       "      <td>BEYONCÉ</td>\n",
       "      <td>2013.0</td>\n",
       "      <td>2013-12-17</td>\n",
       "      <td>beyoncé i've been drinkin' i've been drinkin' ...</td>\n",
       "    </tr>\n",
       "    <tr>\n",
       "      <th>1</th>\n",
       "      <td>1</td>\n",
       "      <td>Beyoncé</td>\n",
       "      <td>Formation</td>\n",
       "      <td>Lemonade</td>\n",
       "      <td>2016.0</td>\n",
       "      <td>2016-02-06</td>\n",
       "      <td>messy mya what happened at the new wil'ins bit...</td>\n",
       "    </tr>\n",
       "    <tr>\n",
       "      <th>2</th>\n",
       "      <td>2</td>\n",
       "      <td>Beyoncé</td>\n",
       "      <td>Partition</td>\n",
       "      <td>BEYONCÉ</td>\n",
       "      <td>2013.0</td>\n",
       "      <td>2013-12-13</td>\n",
       "      <td>part  yoncé   let me hear you say hey ms carte...</td>\n",
       "    </tr>\n",
       "    <tr>\n",
       "      <th>3</th>\n",
       "      <td>3</td>\n",
       "      <td>Beyoncé</td>\n",
       "      <td>Mine</td>\n",
       "      <td>BEYONCÉ</td>\n",
       "      <td>2013.0</td>\n",
       "      <td>2013-12-13</td>\n",
       "      <td>beyoncé i've been watching for the signs took ...</td>\n",
       "    </tr>\n",
       "    <tr>\n",
       "      <th>4</th>\n",
       "      <td>4</td>\n",
       "      <td>Beyoncé</td>\n",
       "      <td>Hold Up</td>\n",
       "      <td>Lemonade</td>\n",
       "      <td>2016.0</td>\n",
       "      <td>2016-04-23</td>\n",
       "      <td>hold up they don't love you like i love you sl...</td>\n",
       "    </tr>\n",
       "  </tbody>\n",
       "</table>\n",
       "</div>"
      ],
      "text/plain": [
       "   Unnamed: 0   Artist          Title     Album    Year        Date  \\\n",
       "0           0  Beyoncé  Drunk in Love   BEYONCÉ  2013.0  2013-12-17   \n",
       "1           1  Beyoncé      Formation  Lemonade  2016.0  2016-02-06   \n",
       "2           2  Beyoncé      Partition   BEYONCÉ  2013.0  2013-12-13   \n",
       "3           3  Beyoncé           Mine   BEYONCÉ  2013.0  2013-12-13   \n",
       "4           4  Beyoncé        Hold Up  Lemonade  2016.0  2016-04-23   \n",
       "\n",
       "                                               Lyric  \n",
       "0  beyoncé i've been drinkin' i've been drinkin' ...  \n",
       "1  messy mya what happened at the new wil'ins bit...  \n",
       "2  part  yoncé   let me hear you say hey ms carte...  \n",
       "3  beyoncé i've been watching for the signs took ...  \n",
       "4  hold up they don't love you like i love you sl...  "
      ]
     },
     "execution_count": 4,
     "metadata": {},
     "output_type": "execute_result"
    }
   ],
   "source": [
    "df.head()"
   ]
  },
  {
   "cell_type": "markdown",
   "id": "e6fef503",
   "metadata": {},
   "source": [
    "# Section 3: TF-IDF Vectorization and Model Training\n",
    "This section involves creating a TF-IDF (Term Frequency-Inverse Document Frequency) vectorizer using TfidfVectorizer from sklearn. This vectorizer converts the lyrics into numerical features that can be used for modeling. The LogisticRegression model is then trained to predict song titles based on the vectorized lyrics."
   ]
  },
  {
   "cell_type": "code",
   "execution_count": 5,
   "id": "768fcd5e",
   "metadata": {},
   "outputs": [
    {
     "data": {
      "text/html": [
       "<style>#sk-container-id-1 {color: black;background-color: white;}#sk-container-id-1 pre{padding: 0;}#sk-container-id-1 div.sk-toggleable {background-color: white;}#sk-container-id-1 label.sk-toggleable__label {cursor: pointer;display: block;width: 100%;margin-bottom: 0;padding: 0.3em;box-sizing: border-box;text-align: center;}#sk-container-id-1 label.sk-toggleable__label-arrow:before {content: \"▸\";float: left;margin-right: 0.25em;color: #696969;}#sk-container-id-1 label.sk-toggleable__label-arrow:hover:before {color: black;}#sk-container-id-1 div.sk-estimator:hover label.sk-toggleable__label-arrow:before {color: black;}#sk-container-id-1 div.sk-toggleable__content {max-height: 0;max-width: 0;overflow: hidden;text-align: left;background-color: #f0f8ff;}#sk-container-id-1 div.sk-toggleable__content pre {margin: 0.2em;color: black;border-radius: 0.25em;background-color: #f0f8ff;}#sk-container-id-1 input.sk-toggleable__control:checked~div.sk-toggleable__content {max-height: 200px;max-width: 100%;overflow: auto;}#sk-container-id-1 input.sk-toggleable__control:checked~label.sk-toggleable__label-arrow:before {content: \"▾\";}#sk-container-id-1 div.sk-estimator input.sk-toggleable__control:checked~label.sk-toggleable__label {background-color: #d4ebff;}#sk-container-id-1 div.sk-label input.sk-toggleable__control:checked~label.sk-toggleable__label {background-color: #d4ebff;}#sk-container-id-1 input.sk-hidden--visually {border: 0;clip: rect(1px 1px 1px 1px);clip: rect(1px, 1px, 1px, 1px);height: 1px;margin: -1px;overflow: hidden;padding: 0;position: absolute;width: 1px;}#sk-container-id-1 div.sk-estimator {font-family: monospace;background-color: #f0f8ff;border: 1px dotted black;border-radius: 0.25em;box-sizing: border-box;margin-bottom: 0.5em;}#sk-container-id-1 div.sk-estimator:hover {background-color: #d4ebff;}#sk-container-id-1 div.sk-parallel-item::after {content: \"\";width: 100%;border-bottom: 1px solid gray;flex-grow: 1;}#sk-container-id-1 div.sk-label:hover label.sk-toggleable__label {background-color: #d4ebff;}#sk-container-id-1 div.sk-serial::before {content: \"\";position: absolute;border-left: 1px solid gray;box-sizing: border-box;top: 0;bottom: 0;left: 50%;z-index: 0;}#sk-container-id-1 div.sk-serial {display: flex;flex-direction: column;align-items: center;background-color: white;padding-right: 0.2em;padding-left: 0.2em;position: relative;}#sk-container-id-1 div.sk-item {position: relative;z-index: 1;}#sk-container-id-1 div.sk-parallel {display: flex;align-items: stretch;justify-content: center;background-color: white;position: relative;}#sk-container-id-1 div.sk-item::before, #sk-container-id-1 div.sk-parallel-item::before {content: \"\";position: absolute;border-left: 1px solid gray;box-sizing: border-box;top: 0;bottom: 0;left: 50%;z-index: -1;}#sk-container-id-1 div.sk-parallel-item {display: flex;flex-direction: column;z-index: 1;position: relative;background-color: white;}#sk-container-id-1 div.sk-parallel-item:first-child::after {align-self: flex-end;width: 50%;}#sk-container-id-1 div.sk-parallel-item:last-child::after {align-self: flex-start;width: 50%;}#sk-container-id-1 div.sk-parallel-item:only-child::after {width: 0;}#sk-container-id-1 div.sk-dashed-wrapped {border: 1px dashed gray;margin: 0 0.4em 0.5em 0.4em;box-sizing: border-box;padding-bottom: 0.4em;background-color: white;}#sk-container-id-1 div.sk-label label {font-family: monospace;font-weight: bold;display: inline-block;line-height: 1.2em;}#sk-container-id-1 div.sk-label-container {text-align: center;}#sk-container-id-1 div.sk-container {/* jupyter's `normalize.less` sets `[hidden] { display: none; }` but bootstrap.min.css set `[hidden] { display: none !important; }` so we also need the `!important` here to be able to override the default hidden behavior on the sphinx rendered scikit-learn.org. See: https://github.com/scikit-learn/scikit-learn/issues/21755 */display: inline-block !important;position: relative;}#sk-container-id-1 div.sk-text-repr-fallback {display: none;}</style><div id=\"sk-container-id-1\" class=\"sk-top-container\"><div class=\"sk-text-repr-fallback\"><pre>LogisticRegression()</pre><b>In a Jupyter environment, please rerun this cell to show the HTML representation or trust the notebook. <br />On GitHub, the HTML representation is unable to render, please try loading this page with nbviewer.org.</b></div><div class=\"sk-container\" hidden><div class=\"sk-item\"><div class=\"sk-estimator sk-toggleable\"><input class=\"sk-toggleable__control sk-hidden--visually\" id=\"sk-estimator-id-1\" type=\"checkbox\" checked><label for=\"sk-estimator-id-1\" class=\"sk-toggleable__label sk-toggleable__label-arrow\">LogisticRegression</label><div class=\"sk-toggleable__content\"><pre>LogisticRegression()</pre></div></div></div></div></div>"
      ],
      "text/plain": [
       "LogisticRegression()"
      ]
     },
     "execution_count": 5,
     "metadata": {},
     "output_type": "execute_result"
    }
   ],
   "source": [
    "vectorizer = TfidfVectorizer(stop_words='english')\n",
    "X = vectorizer.fit_transform(df['Lyric'])\n",
    "y = df['Title']\n",
    "model = LogisticRegression()\n",
    "model.fit(X, y)"
   ]
  },
  {
   "cell_type": "markdown",
   "id": "fabeb784",
   "metadata": {},
   "source": [
    "# Section 4: Lyrics Tokenization and Dictionary Creation\n",
    "In this section, the lyrics are tokenized into words using nltk.word_tokenize(). Additionally, a dictionary is created where each word is mapped to the following word. This dictionary will be utilized later for generating lyrics."
   ]
  },
  {
   "cell_type": "code",
   "execution_count": 6,
   "id": "e4785fe6",
   "metadata": {},
   "outputs": [],
   "source": [
    "word_tokens = nltk.word_tokenize(' '.join(df['Lyric'].dropna()).lower())\n",
    "lyrics_dict = {}\n",
    "for i in range(len(word_tokens)-1):\n",
    "    word = word_tokens[i]\n",
    "    next_word = word_tokens[i+1]\n",
    "    if word in lyrics_dict:\n",
    "        lyrics_dict[word].append(next_word)\n",
    "    else:\n",
    "        lyrics_dict[word] = [next_word]"
   ]
  },
  {
   "cell_type": "markdown",
   "id": "05468365",
   "metadata": {},
   "source": [
    "# Section 5: Functions for Predictions and Analysis\n",
    "This part defines several functions that enable various types of analysis and predictions:\n",
    "\n",
    "predict_song_title(lyrics): Predicts the song title based on input lyrics using the trained Logistic Regression model.\n",
    "perform_named_entity_recognition(lyrics): Performs Named Entity Recognition (NER) on lyrics using spaCy's NER capabilities.\n",
    "perform_pos_tagging(lyrics): Performs Part-of-Speech (POS) tagging on lyrics using spaCy's linguistic analysis.\n",
    "generate_lyrics(start_word, num_lines=20): Generates new lyrics based on a starting word using the previously created dictionary.\n"
   ]
  },
  {
   "cell_type": "code",
   "execution_count": 13,
   "id": "b955afac",
   "metadata": {},
   "outputs": [
    {
     "name": "stdout",
     "output_type": "stream",
     "text": [
      "Welcome! I'm a multipurpose Bot.\n",
      "You can choose to perform Named Entity Recognition, POS tagging, predict a song title, or generate lyrics.\n",
      "Enter 'bye' to exit.\n",
      "Enter 'ner' for Named Entity Recognition, 'pos' for POS tagging, 'lyrics' to predict a song title, or 'generate' to User input: ner\n",
      "Please Enter the Sentence: James and John eats at KFC every working day\n",
      "Named Entities:\n",
      "James: PERSON\n",
      "John: PERSON\n",
      "KFC: ORG\n",
      "every working day: DATE\n",
      "\n",
      "Enter 'ner' for Named Entity Recognition, 'pos' for POS tagging, 'lyrics' to predict a song title, or 'generate' to User input: ner\n",
      "Please Enter the Sentence: Julieth and Romeo could leave for Las Vegas tomorrow\n",
      "Named Entities:\n",
      "Julieth: PERSON\n",
      "Romeo: ORG\n",
      "Las Vegas: GPE\n",
      "\n",
      "Enter 'ner' for Named Entity Recognition, 'pos' for POS tagging, 'lyrics' to predict a song title, or 'generate' to User input: pos\n",
      "Please Enter the Sentence: Julieth and Romeo could leave for Las Vegas tomorrow\n",
      "POS Tags:\n",
      "Julieth: PROPN\n",
      "and: CCONJ\n",
      "Romeo: PROPN\n",
      "could: AUX\n",
      "leave: VERB\n",
      "for: ADP\n",
      "Las: PROPN\n",
      "Vegas: PROPN\n",
      "tomorrow: NOUN\n",
      "\n",
      "Enter 'ner' for Named Entity Recognition, 'pos' for POS tagging, 'lyrics' to predict a song title, or 'generate' to User input: pos\n",
      "Please Enter the Sentence: James and John eats at KFC every working day\n",
      "POS Tags:\n",
      "James: PROPN\n",
      "and: CCONJ\n",
      "John: PROPN\n",
      "eats: VERB\n",
      "at: ADP\n",
      "KFC: PROPN\n",
      "every: DET\n",
      "working: VERB\n",
      "day: NOUN\n",
      "\n",
      "Enter 'ner' for Named Entity Recognition, 'pos' for POS tagging, 'lyrics' to predict a song title, or 'generate' to User input: lyrics\n",
      "Enter the lyrics: got you walking with a limp\n",
      "Predicted Song Title: New Shoes\n",
      "\n",
      "Enter 'ner' for Named Entity Recognition, 'pos' for POS tagging, 'lyrics' to predict a song title, or 'generate' to User input: lyrics\n",
      "Enter the lyrics: Baby, I want you, na-na\n",
      "Predicted Song Title: Don’t Hurt Yourself\n",
      "\n",
      "Enter 'ner' for Named Entity Recognition, 'pos' for POS tagging, 'lyrics' to predict a song title, or 'generate' to User input: lyrics\n",
      "Enter the lyrics: get filthy when that liquor get into me I've been thinking, I've been thinking\n",
      "Predicted Song Title: Yoncé\n",
      "\n",
      "Enter 'ner' for Named Entity Recognition, 'pos' for POS tagging, 'lyrics' to predict a song title, or 'generate' to User input: ive been drinking\n",
      "Invalid choice. Please try again.\n",
      "Enter 'ner' for Named Entity Recognition, 'pos' for POS tagging, 'lyrics' to predict a song title, or 'generate' to User input: lyrics\n",
      "Enter the lyrics: in love\n",
      "Predicted Song Title: Love on Top (DJ Escape & Tony Coluccio Remix)\n",
      "\n",
      "Enter 'ner' for Named Entity Recognition, 'pos' for POS tagging, 'lyrics' to predict a song title, or 'generate' to User input: lyrics\n",
      "Enter the lyrics: drunk in love \n",
      "Predicted Song Title: Drunk in love Beyonce\n",
      "\n",
      "Enter 'ner' for Named Entity Recognition, 'pos' for POS tagging, 'lyrics' to predict a song title, or 'generate' to User input: lyrics\n",
      "Enter the lyrics: with you all night\n",
      "Predicted Song Title: One Night Only (Disco)\n",
      "\n",
      "Enter 'ner' for Named Entity Recognition, 'pos' for POS tagging, 'lyrics' to predict a song title, or 'generate' to User input: generate\n",
      "Enter a word: love\n",
      "love the wall behind but when we what goes around comes back it change comin ' just like rollin oh keep\n",
      "\n",
      "Enter 'ner' for Named Entity Recognition, 'pos' for POS tagging, 'lyrics' to predict a song title, or 'generate' to User input: generate\n",
      "Enter a word: time\n",
      "time with love got to this next plane pre beyoncé jayz i always mad at the love was about each word\n",
      "\n",
      "Enter 'ner' for Named Entity Recognition, 'pos' for POS tagging, 'lyrics' to predict a song title, or 'generate' to User input: generate\n",
      "Enter a word: money\n",
      "money later i taught if i own space and wait till i got me body oriented towards you dont you walk\n",
      "\n",
      "Enter 'ner' for Named Entity Recognition, 'pos' for POS tagging, 'lyrics' to predict a song title, or 'generate' to User input: bye\n",
      "Goodbye! Have a great day!\n"
     ]
    }
   ],
   "source": [
    "# Function to predict the song title based on lyrics\n",
    "def predict_song_title(lyrics):\n",
    "    lyrics = lyrics.lower()\n",
    "    X_test = vectorizer.transform([lyrics])\n",
    "    prediction = model.predict(X_test)\n",
    "    return prediction[0]\n",
    "\n",
    "# Function to perform named entity recognition on lyrics\n",
    "def perform_named_entity_recognition(lyrics):\n",
    "    doc = nlp(lyrics)\n",
    "    entities = [(entity.text, entity.label_) for entity in doc.ents]\n",
    "    return entities\n",
    "\n",
    "# Function to perform POS tagging on lyrics\n",
    "def perform_pos_tagging(lyrics):\n",
    "    doc = nlp(lyrics)\n",
    "    pos_tags = [(token.text, token.pos_) for token in doc]\n",
    "    return pos_tags\n",
    "\n",
    "# Function to generate lyrics given a starting word\n",
    "def generate_lyrics(start_word, num_lines=20):\n",
    "    generated_lyrics = [start_word]\n",
    "    for _ in range(num_lines):\n",
    "        current_word = generated_lyrics[-1]\n",
    "        if current_word in lyrics_dict:\n",
    "            next_word_options = lyrics_dict[current_word]\n",
    "            next_word = random.choice(next_word_options)\n",
    "            generated_lyrics.append(next_word)\n",
    "        else:\n",
    "            break\n",
    "    return ' '.join(generated_lyrics)\n",
    "# Start the conversation\n",
    "print(\"Welcome! I'm a multipurpose Bot.\")\n",
    "print(\"You can choose to perform Named Entity Recognition, POS tagging, predict a song title, or generate lyrics.\")\n",
    "print(\"Enter 'bye' to exit.\")\n",
    "\n",
    "# Conversation loop\n",
    "while True:\n",
    "    # Ask for the user's choice\n",
    "    choice = input(\"Enter 'ner' for Named Entity Recognition, 'pos' for POS tagging, 'lyrics' to predict a song title, or 'generate' to User input: \")\n",
    "\n",
    "    # Check if the user wants to exit\n",
    "    if choice.lower() == 'bye':\n",
    "        print(\"Goodbye! Have a great day!\")\n",
    "        break\n",
    "\n",
    "    # User wants to perform Named Entity Recognition\n",
    "    if choice.lower() == 'ner':\n",
    "        # Ask for lyrics input\n",
    "        user_lyrics = input(\"Please Enter the Sentence: \")\n",
    "\n",
    "        # Perform Named Entity Recognition on the lyrics\n",
    "        entities = perform_named_entity_recognition(user_lyrics)\n",
    "\n",
    "        print(\"Named Entities:\")\n",
    "        for entity, label in entities:\n",
    "            print(f\"{entity}: {label}\")\n",
    "        print()\n",
    "\n",
    "    # User wants to perform POS tagging\n",
    "    elif choice.lower() == 'pos':\n",
    "        # Ask for lyrics input\n",
    "        user_lyrics = input(\"Please Enter the Sentence: \")\n",
    "\n",
    "        # Perform POS tagging on the lyrics\n",
    "        pos_tags = perform_pos_tagging(user_lyrics)\n",
    "\n",
    "        print(\"POS Tags:\")\n",
    "        for token, pos in pos_tags:\n",
    "            print(f\"{token}: {pos}\")\n",
    "        print()\n",
    "    # User wants to predict a song title\n",
    "    elif choice.lower() == 'lyrics':\n",
    "        # Ask for lyrics input\n",
    "        user_lyrics = input(\"Enter the lyrics: \")\n",
    "\n",
    "        # Predict the song title based on the lyrics\n",
    "        predicted_song_title = predict_song_title(user_lyrics)\n",
    "\n",
    "        print(\"Predicted Song Title:\", predicted_song_title)\n",
    "        print()\n",
    "\n",
    "    # User wants to generate lyrics\n",
    "    elif choice.lower() == 'generate':\n",
    "        # Ask for word input\n",
    "        user_word = input(\"Enter a word: \")\n",
    "\n",
    "        # Generate lyrics based on the user's input\n",
    "        generated_lyrics = generate_lyrics(user_word)\n",
    "        print(generated_lyrics)\n",
    "        print()\n",
    "\n",
    "    else:\n",
    "        print(\"Invalid choice. Please try again.\")"
   ]
  },
  {
   "cell_type": "code",
   "execution_count": null,
   "id": "bf5b0315",
   "metadata": {},
   "outputs": [],
   "source": []
  },
  {
   "cell_type": "markdown",
   "id": "000ce33c",
   "metadata": {},
   "source": [
    "# Limitations\n",
    "Dependency on Available Lyrics Dataset: The project relies on the availability and quality of the Beyonce lyrics dataset. If the dataset is incomplete, outdated, or contains errors, it might affect the accuracy of the generated results and analyses.\n",
    "\n",
    "Limited Scope of Predictive Model: The song title prediction model is trained specifically on Beyonce's lyrics. It may not generalize well to lyrics from other artists or genres, potentially leading to inaccurate predictions.\n",
    "Lack of Contextual Understanding: The project uses statistical and linguistic analysis without understanding the broader context or emotions behind the lyrics. It may misinterpret certain nuances or poetic expressions, leading to inaccurate results in tasks such as Named Entity Recognition and sentiment analysis.\n",
    "\n",
    "Limited Vocabulary for Lyrics Generation: The lyrics generation function relies on a dictionary of word transitions from the input lyrics dataset. If the dataset's vocabulary is limited, generated lyrics might also have a constrained vocabulary and repetitiveness.\n",
    "\n",
    "No Emotion or Creativity: The generated lyrics lack human creativity, emotions, and deeper meaning that human songwriters bring to their work. The generated lyrics may seem mechanical and lack the emotional depth found in human-composed lyrics.\n",
    "\n",
    "Handling of Rare or Uncommon Words: The project may struggle with handling rare or uncommon words that are not well-represented in the lyrics dataset. This could affect the quality of generated lyrics.\n",
    "\n",
    "Inability to Comprehend Complex Context: The project's analysis and generation methods do not comprehend complex context or hidden meanings that might be present in song lyrics. It focuses on statistical patterns rather than deep semantic understanding.\n",
    "\n",
    "Overfitting of Models: The project involves training a model for song title prediction. If the model overfits the training data, it might struggle to accurately predict song titles for new, unseen lyrics.\n",
    "Ethical Considerations: Using the generated lyrics in a public or commercial context might raise ethical concerns, as they could resemble copyrighted content or infringe on artistic rights.\n",
    "\n",
    "User Dependency for Interpretation: The results of NER, POS tagging, and song title predictions might need user interpretation. Users might need to analyze the outputs within the broader context of the song and artist."
   ]
  },
  {
   "cell_type": "code",
   "execution_count": null,
   "id": "d0b874d8",
   "metadata": {},
   "outputs": [],
   "source": []
  }
 ],
 "metadata": {
  "kernelspec": {
   "display_name": "Python 3 (ipykernel)",
   "language": "python",
   "name": "python3"
  },
  "language_info": {
   "codemirror_mode": {
    "name": "ipython",
    "version": 3
   },
   "file_extension": ".py",
   "mimetype": "text/x-python",
   "name": "python",
   "nbconvert_exporter": "python",
   "pygments_lexer": "ipython3",
   "version": "3.10.9"
  }
 },
 "nbformat": 4,
 "nbformat_minor": 5
}
